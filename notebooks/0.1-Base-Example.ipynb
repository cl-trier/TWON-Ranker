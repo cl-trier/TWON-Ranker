{
 "cells": [
  {
   "cell_type": "code",
   "execution_count": 1,
   "id": "initial_id",
   "metadata": {
    "collapsed": true,
    "ExecuteTime": {
     "end_time": "2024-01-10T11:54:30.791829Z",
     "start_time": "2024-01-10T11:54:30.779764Z"
    }
   },
   "outputs": [],
   "source": [
    "import sys\n",
    "\n",
    "sys.path.append('..')"
   ]
  },
  {
   "cell_type": "code",
   "execution_count": 2,
   "outputs": [],
   "source": [
    "from typing import List\n",
    "\n",
    "from src import Ranker\n",
    "from src.schemas import User, Post"
   ],
   "metadata": {
    "collapsed": false,
    "ExecuteTime": {
     "end_time": "2024-01-10T11:54:33.181890Z",
     "start_time": "2024-01-10T11:54:30.790341Z"
    }
   },
   "id": "d4757f0d594bc48d"
  },
  {
   "cell_type": "code",
   "execution_count": 3,
   "outputs": [],
   "source": [
    "user = User(\n",
    "    id=1,\n",
    "    following=[2, 3, 4],\n",
    "    follower=[2, 3],\n",
    "    posts=[\n",
    "        Post(\n",
    "            id=101,\n",
    "            author_id=1,\n",
    "            content='Strawberry cheesecake milkshake from the sweet spot, Virginia Beach',\n",
    "        ),\n",
    "        Post(\n",
    "            id=102,\n",
    "            author_id=1,\n",
    "            content='What do you think of this yummy baklava?',\n",
    "        ),\n",
    "        Post(\n",
    "            id=103,\n",
    "            author_id=1,\n",
    "            content='Death by Caramel Cheesecake for Mother\\'s Day lunch.',\n",
    "        ),\n",
    "        Post(\n",
    "            id=104,\n",
    "            author_id=1,\n",
    "            content='I made a velveteen rabbit red velvet cake for a friend\\'s birthday',\n",
    "        )\n",
    "    ]\n",
    ")"
   ],
   "metadata": {
    "collapsed": false,
    "ExecuteTime": {
     "end_time": "2024-01-10T11:54:33.193321Z",
     "start_time": "2024-01-10T11:54:33.184675Z"
    }
   },
   "id": "25fa14f17147a60"
  },
  {
   "cell_type": "code",
   "execution_count": 4,
   "outputs": [],
   "source": [
    "posts: List[Post] = [\n",
    "    Post(\n",
    "        id=201,\n",
    "        author_id=2,\n",
    "        content='I made Lemon Tiramisu for Mother\\'s Day dessert. Yum!',\n",
    "        likes=[1, 3],\n",
    "        comments=[102]\n",
    "    ),\n",
    "    Post(\n",
    "        id=301,\n",
    "        author_id=3,\n",
    "        content='Stack buttery slices of bread with prosciutto, brie and pear, then bake into a gooey, golden appetizer.',\n",
    "        likes=[3, 4],\n",
    "    ),\n",
    "    Post(\n",
    "        id=401,\n",
    "        author_id=4,\n",
    "        content='There are still American hostages held in Gaza. Biden isn\\'t focused.',\n",
    "        likes=[4, 5],\n",
    "    ),\n",
    "    Post(\n",
    "        id=501,\n",
    "        author_id=5,\n",
    "        content='So disappointing another biological male stealing podium slots, medals, and financial opportunities for women in sports. This madness must stop.',\n",
    "        likes=[5],\n",
    "        comments=[]\n",
    "    )\n",
    "]"
   ],
   "metadata": {
    "collapsed": false,
    "ExecuteTime": {
     "end_time": "2024-01-10T11:54:33.199643Z",
     "start_time": "2024-01-10T11:54:33.193049Z"
    }
   },
   "id": "5ab1c1ba71c664ff"
  },
  {
   "cell_type": "code",
   "execution_count": 5,
   "outputs": [
    {
     "data": {
      "text/plain": "({201: 10.740122318267822,\n  301: 8.177030324935913,\n  401: 5.789150953292847,\n  501: 3.843450903892517},\n {201: {'similarity': 7.98682975769043,\n   'topic': 0.5,\n   'is_follower': 1,\n   'is_following': 1,\n   'likes_count': 2,\n   'comments_count': 1},\n  301: {'similarity': 5.902707099914551,\n   'topic': 0.5,\n   'is_follower': 1,\n   'is_following': 1,\n   'likes_count': 2,\n   'comments_count': 0},\n  401: {'similarity': 4.052201271057129,\n   'topic': 0.0,\n   'is_follower': 0,\n   'is_following': 1,\n   'likes_count': 2,\n   'comments_count': 0},\n  501: {'similarity': 3.7912678718566895,\n   'topic': 0.0,\n   'is_follower': 0,\n   'is_following': 0,\n   'likes_count': 1,\n   'comments_count': 0}})"
     },
     "metadata": {},
     "output_type": "display_data"
    }
   ],
   "source": [
    "display(\n",
    "    Ranker()(\n",
    "        user, posts,\n",
    "        weights=dict(\n",
    "            similarity=0.75, \n",
    "            topic=1.5, \n",
    "            is_follower=.25, \n",
    "            is_following=.75, \n",
    "            likes_count=1.,\n",
    "            comments_count=1.,\n",
    "        ))\n",
    ")"
   ],
   "metadata": {
    "collapsed": false,
    "ExecuteTime": {
     "end_time": "2024-01-10T11:54:39.114752Z",
     "start_time": "2024-01-10T11:54:33.202334Z"
    }
   },
   "id": "dde456135f0c4233"
  },
  {
   "cell_type": "code",
   "execution_count": 5,
   "outputs": [],
   "source": [],
   "metadata": {
    "collapsed": false,
    "ExecuteTime": {
     "end_time": "2024-01-10T11:54:39.121142Z",
     "start_time": "2024-01-10T11:54:39.113135Z"
    }
   },
   "id": "303e8e9610ed8ad5"
  }
 ],
 "metadata": {
  "kernelspec": {
   "display_name": "Python 3",
   "language": "python",
   "name": "python3"
  },
  "language_info": {
   "codemirror_mode": {
    "name": "ipython",
    "version": 2
   },
   "file_extension": ".py",
   "mimetype": "text/x-python",
   "name": "python",
   "nbconvert_exporter": "python",
   "pygments_lexer": "ipython2",
   "version": "2.7.6"
  }
 },
 "nbformat": 4,
 "nbformat_minor": 5
}
