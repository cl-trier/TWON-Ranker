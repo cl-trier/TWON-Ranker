{
 "cells": [
  {
   "cell_type": "code",
   "execution_count": 1,
   "id": "initial_id",
   "metadata": {
    "collapsed": true,
    "ExecuteTime": {
     "end_time": "2024-01-04T11:21:42.610632Z",
     "start_time": "2024-01-04T11:21:42.602840Z"
    }
   },
   "outputs": [],
   "source": [
    "import sys\n",
    "\n",
    "sys.path.append('..')"
   ]
  },
  {
   "cell_type": "code",
   "execution_count": 2,
   "outputs": [],
   "source": [
    "from typing import List\n",
    "\n",
    "user_tweet_history: List[str] = [\n",
    "    'Strawberry cheesecake milkshake from the sweet spot, Virginia Beach',\n",
    "    'What do you think of this yummy baklava?',\n",
    "    'Death by Caramel Cheesecake for Mother\\'s Day lunch.',\n",
    "    'I made a velveteen rabbit red velvet cake for a friend\\'s birthday'\n",
    "]\n",
    "\n",
    "network_tweet_pool: List[str] = [\n",
    "    'I made Lemon Tiramisu for Mother\\'s Day dessert. Yum!',\n",
    "    'Stack buttery slices of bread with prosciutto, brie and pear, then bake into a gooey, golden appetizer ✨',\n",
    "    'There are still American hostages held in Gaza. Biden isn\\'t focused.',\n",
    "    'So disappointing another biological male stealing podium slots, medals, and financial opportunities for women in sports. This madness must stop.'\n",
    "]"
   ],
   "metadata": {
    "collapsed": false,
    "ExecuteTime": {
     "end_time": "2024-01-04T11:21:42.618751Z",
     "start_time": "2024-01-04T11:21:42.613078Z"
    }
   },
   "id": "fc62e740957acea0"
  },
  {
   "cell_type": "code",
   "execution_count": 3,
   "outputs": [],
   "source": [
    "from src.modules import TopicClassifier\n",
    "\n",
    "\n",
    "topic_classifier = TopicClassifier()\n",
    "user_tweet_history_topics = topic_classifier(user_tweet_history)\n",
    "network_tweet_pool_topics = topic_classifier(network_tweet_pool)"
   ],
   "metadata": {
    "collapsed": false,
    "ExecuteTime": {
     "end_time": "2024-01-04T11:21:47.007012Z",
     "start_time": "2024-01-04T11:21:42.618345Z"
    }
   },
   "id": "bf574f74ece854b8"
  },
  {
   "cell_type": "code",
   "execution_count": 4,
   "outputs": [],
   "source": [
    "from src.modules import SimilarityComputer\n",
    "\n",
    "\n",
    "similarity_computer = SimilarityComputer()\n",
    "network_tweet_pool_similarity = similarity_computer(user_tweet_history, network_tweet_pool)"
   ],
   "metadata": {
    "collapsed": false,
    "ExecuteTime": {
     "end_time": "2024-01-04T11:21:50.176262Z",
     "start_time": "2024-01-04T11:21:47.005522Z"
    }
   },
   "id": "7384802ebf9e9474"
  },
  {
   "cell_type": "code",
   "execution_count": 5,
   "outputs": [
    {
     "name": "stdout",
     "output_type": "stream",
     "text": [
      "The users history includes Tweets with the topics:\n",
      "[('food_&_dining', 4), ('diaries_&_daily_life', 1)]\n",
      "\n",
      "The potential timeline information:\n",
      "\n",
      "Tweet:\t\tI made Lemon Tiramisu for Mother's D [...]\n",
      "Topic(s):\t['food_&_dining']\n",
      "Similarity:\t2.0131702423095703\n",
      "\n",
      "Tweet:\t\tStack buttery slices of bread with p [...]\n",
      "Topic(s):\t['food_&_dining']\n",
      "Similarity:\t3.779722213745117\n",
      "\n",
      "Tweet:\t\tThere are still American hostages he [...]\n",
      "Topic(s):\t['news_&_social_concern']\n",
      "Similarity:\t5.947798728942871\n",
      "\n",
      "Tweet:\t\tSo disappointing another biological  [...]\n",
      "Topic(s):\t['news_&_social_concern', 'sports']\n",
      "Similarity:\t6.2087321281433105\n"
     ]
    }
   ],
   "source": [
    "import itertools\n",
    "from collections import Counter\n",
    "\n",
    "\n",
    "print(f'The users history includes Tweets with the topics:')\n",
    "print(Counter(list(itertools.chain(*user_tweet_history_topics))).most_common())\n",
    "print(f'\\nThe potential timeline information:\\n')\n",
    "\n",
    "for tweet, topic, similarity in zip(network_tweet_pool, network_tweet_pool_topics, network_tweet_pool_similarity):\n",
    "    print(f'Tweet:\\t\\t{tweet[:36]} [...]')\n",
    "    print(f'Topic(s):\\t{topic}')\n",
    "    print(f'Similarity:\\t{similarity}\\n')"
   ],
   "metadata": {
    "collapsed": false,
    "ExecuteTime": {
     "end_time": "2024-01-04T11:21:50.188314Z",
     "start_time": "2024-01-04T11:21:50.180732Z"
    }
   },
   "id": "35d5931474e69b3f"
  }
 ],
 "metadata": {
  "kernelspec": {
   "display_name": "Python 3",
   "language": "python",
   "name": "python3"
  },
  "language_info": {
   "codemirror_mode": {
    "name": "ipython",
    "version": 2
   },
   "file_extension": ".py",
   "mimetype": "text/x-python",
   "name": "python",
   "nbconvert_exporter": "python",
   "pygments_lexer": "ipython2",
   "version": "2.7.6"
  }
 },
 "nbformat": 4,
 "nbformat_minor": 5
}
