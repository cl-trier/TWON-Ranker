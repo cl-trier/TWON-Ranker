{
 "cells": [
  {
   "cell_type": "code",
   "execution_count": 4,
   "id": "initial_id",
   "metadata": {
    "collapsed": true,
    "ExecuteTime": {
     "end_time": "2024-02-22T12:07:32.675645Z",
     "start_time": "2024-02-22T12:07:32.650223Z"
    }
   },
   "outputs": [],
   "source": [
    "import sys\n",
    "\n",
    "sys.path.append('..')"
   ]
  },
  {
   "cell_type": "code",
   "outputs": [],
   "source": [
    "import datetime\n",
    "\n",
    "MINIMUM: float = 0.2\n",
    "REFERENCE_TIMEDELTA: datetime.timedelta = datetime.timedelta(days=3)\n",
    "\n",
    "N: int = 1_000\n",
    "REFERENCE_DATETIME: datetime.datetime = datetime.datetime.now()"
   ],
   "metadata": {
    "collapsed": false,
    "ExecuteTime": {
     "end_time": "2024-02-22T12:07:33.071847Z",
     "start_time": "2024-02-22T12:07:33.047258Z"
    }
   },
   "id": "d58731f5979895f6",
   "execution_count": 5
  },
  {
   "cell_type": "code",
   "outputs": [
    {
     "ename": "SyntaxError",
     "evalue": "invalid syntax (__init__.py, line 33)",
     "output_type": "error",
     "traceback": [
      "Traceback \u001B[0;36m(most recent call last)\u001B[0m:\n",
      "\u001B[0m  File \u001B[1;32m~/opt/miniconda3/envs/TWON-Ranker/lib/python3.9/site-packages/IPython/core/interactiveshell.py:3526\u001B[0m in \u001B[1;35mrun_code\u001B[0m\n    exec(code_obj, self.user_global_ns, self.user_ns)\u001B[0m\n",
      "\u001B[0;36m  Cell \u001B[0;32mIn[6], line 1\u001B[0;36m\n\u001B[0;31m    from src import modules\u001B[0;36m\n",
      "\u001B[0;36m  File \u001B[0;32m~/Repositories/TWON-Ranker/src/__init__.py:33\u001B[0;36m\u001B[0m\n\u001B[0;31m    'comments': modules.Observations(items=[comment.timestamp for comment in post.comments]),\u001B[0m\n\u001B[0m              ^\u001B[0m\n\u001B[0;31mSyntaxError\u001B[0m\u001B[0;31m:\u001B[0m invalid syntax\n"
     ]
    }
   ],
   "source": [
    "from src import modules\n",
    "\n",
    "OBSERVATIONS = modules.Observations(items=[\n",
    "    REFERENCE_DATETIME - (REFERENCE_TIMEDELTA * i / N)\n",
    "    for i in reversed(range(N))\n",
    "])"
   ],
   "metadata": {
    "collapsed": false,
    "ExecuteTime": {
     "end_time": "2024-02-22T12:07:33.501728Z",
     "start_time": "2024-02-22T12:07:33.472767Z"
    }
   },
   "id": "5ce48913b8668e4",
   "execution_count": 6
  },
  {
   "cell_type": "code",
   "outputs": [
    {
     "ename": "NameError",
     "evalue": "name 'modules' is not defined",
     "output_type": "error",
     "traceback": [
      "\u001B[0;31m---------------------------------------------------------------------------\u001B[0m",
      "\u001B[0;31mNameError\u001B[0m                                 Traceback (most recent call last)",
      "Cell \u001B[0;32mIn[7], line 1\u001B[0m\n\u001B[0;32m----> 1\u001B[0m DECAY \u001B[38;5;241m=\u001B[39m \u001B[43mmodules\u001B[49m\u001B[38;5;241m.\u001B[39mDecay(minimum\u001B[38;5;241m=\u001B[39mMINIMUM, reference_timedelta\u001B[38;5;241m=\u001B[39mREFERENCE_TIMEDELTA)\n",
      "\u001B[0;31mNameError\u001B[0m: name 'modules' is not defined"
     ]
    }
   ],
   "source": [
    "DECAY = modules.Decay(minimum=MINIMUM, reference_timedelta=REFERENCE_TIMEDELTA)"
   ],
   "metadata": {
    "collapsed": false,
    "ExecuteTime": {
     "end_time": "2024-02-22T12:07:35.353009Z",
     "start_time": "2024-02-22T12:07:34.423540Z"
    }
   },
   "id": "edab51a167c0bf08",
   "execution_count": 7
  },
  {
   "cell_type": "code",
   "outputs": [],
   "source": [
    "print(f'''observations scores ({N=}):\n",
    "\n",
    "{'count_based:':20} {OBSERVATIONS()} \n",
    "{'count_based (log):':20} {OBSERVATIONS(log_normalize=True)} \n",
    "\n",
    "{'decay_based:':20}  {OBSERVATIONS(func='decay_based', reference_datetime=REFERENCE_DATETIME, decay=DECAY)}\n",
    "{'decay_based (log):':20}  {OBSERVATIONS(func='decay_based', log_normalize=True, reference_datetime=REFERENCE_DATETIME, decay=DECAY)}\n",
    "''')"
   ],
   "metadata": {
    "collapsed": false,
    "ExecuteTime": {
     "start_time": "2024-02-22T12:07:27.871092Z"
    }
   },
   "id": "99fd57a68f8d7ae8",
   "execution_count": null
  },
  {
   "cell_type": "code",
   "outputs": [],
   "source": [],
   "metadata": {
    "collapsed": false,
    "ExecuteTime": {
     "start_time": "2024-02-22T12:07:27.874630Z"
    }
   },
   "id": "6696b8cde6126e22",
   "execution_count": null
  }
 ],
 "metadata": {
  "kernelspec": {
   "display_name": "Python 3",
   "language": "python",
   "name": "python3"
  },
  "language_info": {
   "codemirror_mode": {
    "name": "ipython",
    "version": 2
   },
   "file_extension": ".py",
   "mimetype": "text/x-python",
   "name": "python",
   "nbconvert_exporter": "python",
   "pygments_lexer": "ipython2",
   "version": "2.7.6"
  }
 },
 "nbformat": 4,
 "nbformat_minor": 5
}
